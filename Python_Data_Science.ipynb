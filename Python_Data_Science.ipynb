{
 "cells": [
  {
   "cell_type": "markdown",
   "id": "b248b9e3",
   "metadata": {},
   "source": [
    "### Disney Dataset Creation (w/ Python BeautifulSoup)\n",
    "Scrape & clear a list of disney wikipedia pages to create a dataset to further analyze"
   ]
  },
  {
   "cell_type": "markdown",
   "id": "57cdc744",
   "metadata": {},
   "source": [
    "### Task 1: Get Info Box (store in Python dictionary)\n",
    "Import necessary Libraries"
   ]
  },
  {
   "cell_type": "code",
   "execution_count": 1,
   "id": "45b16a0d",
   "metadata": {},
   "outputs": [],
   "source": [
    "from bs4 import BeautifulSoup as bs\n",
    "import requests"
   ]
  },
  {
   "cell_type": "markdown",
   "id": "c4b306d3",
   "metadata": {},
   "source": [
    "#### Load the webpage"
   ]
  },
  {
   "cell_type": "code",
   "execution_count": 2,
   "id": "a72b0a30",
   "metadata": {},
   "outputs": [],
   "source": [
    "r = requests.get(\"https://en.wikipedia.org/wiki/Toy_Story_3\")\n",
    "\n",
    "# Convert to a beautiful soup object\n",
    "soup = bs(r.content)\n",
    "\n",
    "# Print out the HTML\n",
    "# print(soup.prettify())"
   ]
  },
  {
   "cell_type": "code",
   "execution_count": 3,
   "id": "1b3d9cfc",
   "metadata": {},
   "outputs": [],
   "source": [
    "info_box = soup.find(class_=\"infobox vevent\")\n",
    "info_rows = info_box.find_all(\"tr\")\n",
    "\n",
    "# for row in info_rows:\n",
    "#     print(row.prettify())"
   ]
  },
  {
   "cell_type": "code",
   "execution_count": 4,
   "id": "40859bf4",
   "metadata": {},
   "outputs": [],
   "source": [
    "def get_content_value(row_data):\n",
    "    if row_data.find(\"li\"):\n",
    "        return [li.get_text(\" \", strip=True).replace(\"\\xa0\", \" \") for li in row_data.find_all(\"li\")]\n",
    "    else:\n",
    "        return row_data.get_text(\" \", strip=True).replace(\"\\xa0\", \" \")"
   ]
  },
  {
   "cell_type": "code",
   "execution_count": 5,
   "id": "5dcd52b0",
   "metadata": {},
   "outputs": [
    {
     "data": {
      "text/plain": [
       "{'title': 'Toy Story 3',\n",
       " 'Directed by': 'Lee Unkrich',\n",
       " 'Screenplay by': 'Michael Arndt',\n",
       " 'Story by': ['John Lasseter', 'Andrew Stanton', 'Lee Unkrich'],\n",
       " 'Produced by': 'Darla K. Anderson',\n",
       " 'Starring': ['Tom Hanks',\n",
       "  'Tim Allen',\n",
       "  'Joan Cusack',\n",
       "  'Don Rickles',\n",
       "  'Wallace Shawn',\n",
       "  'John Ratzenberger',\n",
       "  'Estelle Harris',\n",
       "  'Ned Beatty',\n",
       "  'Michael Keaton',\n",
       "  'Jodi Benson',\n",
       "  'John Morris'],\n",
       " 'Cinematography': ['Jeremy Lasky', 'Kim White'],\n",
       " 'Edited by': 'Ken Schretzmann',\n",
       " 'Music by': 'Randy Newman',\n",
       " 'Production companies': ['Walt Disney Pictures', 'Pixar Animation Studios'],\n",
       " 'Distributed by': 'Walt Disney Studios Motion Pictures',\n",
       " 'Release dates': ['June 12, 2010 ( 2010-06-12 ) ( Taormina Film Fest )',\n",
       "  'June 18, 2010 ( 2010-06-18 ) (United States)'],\n",
       " 'Running time': '103 minutes [1]',\n",
       " 'Country': 'United States',\n",
       " 'Language': 'English',\n",
       " 'Budget': '$200 million [1]',\n",
       " 'Box office': '$1.067 billion [1]'}"
      ]
     },
     "execution_count": 5,
     "metadata": {},
     "output_type": "execute_result"
    }
   ],
   "source": [
    "movie_info = {}\n",
    "\n",
    "for index, row in enumerate(info_rows):\n",
    "    if index == 0:\n",
    "        movie_info['title'] = row.find(\"th\").get_text(\" \", strip=True)\n",
    "    elif index == 1:\n",
    "        continue\n",
    "    else:\n",
    "        content_key = row.find(\"th\").get_text(\" \", strip=True)\n",
    "        content_value = get_content_value(row.find(\"td\"))\n",
    "        movie_info[content_key] = content_value\n",
    "\n",
    "movie_info"
   ]
  },
  {
   "cell_type": "markdown",
   "id": "e37ab83f",
   "metadata": {},
   "source": [
    "### Task 2: Get info box for all movies"
   ]
  },
  {
   "cell_type": "code",
   "execution_count": 6,
   "id": "ca5d304d",
   "metadata": {},
   "outputs": [],
   "source": [
    "r = requests.get(\"https://en.wikipedia.org/wiki/List_of_Walt_Disney_Pictures_films\")\n",
    "soup = bs(r.content)\n",
    "\n",
    "movies = soup.select(\".wikitable.sortable i a\")"
   ]
  },
  {
   "cell_type": "code",
   "execution_count": 7,
   "id": "1cb6a003",
   "metadata": {},
   "outputs": [],
   "source": [
    "def get_content_value(row_data):\n",
    "    if row_data.find(\"li\"):\n",
    "        return [li.get_text(\" \", strip=True).replace(\"\\xa0\", \" \") for li in row_data.find_all(\"li\")]\n",
    "    else:\n",
    "        return row_data.get_text(\" \", strip=True).replace(\"\\xa0\", \" \")\n",
    "\n",
    "def get_info_box(url):\n",
    "    r = requests.get(\"https://en.wikipedia.org/wiki/Toy_Story_3\")\n",
    "    soup = bs(r.content)\n",
    "    info_box = soup.find(class_=\"infobox vevent\")\n",
    "    info_rows = info_box.find_all(\"tr\")\n",
    "    \n",
    "    movie_info = {}\n",
    "\n",
    "    for index, row in enumerate(info_rows):\n",
    "        if index == 0:\n",
    "            movie_info['title'] = row.find(\"th\").get_text(\" \", strip=True)\n",
    "        elif index == 1:\n",
    "            continue\n",
    "        else:\n",
    "            content_key = row.find(\"th\").get_text(\" \", strip=True)\n",
    "            content_value = get_content_value(row.find(\"td\"))\n",
    "            movie_info[content_key] = content_value\n",
    "            \n",
    "        return movie_info"
   ]
  },
  {
   "cell_type": "code",
   "execution_count": null,
   "id": "e429d7bb",
   "metadata": {},
   "outputs": [],
   "source": [
    "r = requests.get(\"https://en.wikipedia.org/wiki/List_of_Walt_Disney_Pictures_films\")\n",
    "soup = bs(r.content)\n",
    "movies = soup.select(\".wikitable.sortable i a\")\n",
    "len(movies)\n",
    "\n",
    "base_path = \"https://en.wikipedia.org/\"\n",
    "\n",
    "movie_info_list = []\n",
    "\n",
    "for index, movie in enumerate(movies):\n",
    "    relative_path = movie['href']\n",
    "    title = movie['title']\n",
    "    full_path = base_path + relative_path\n",
    "\n",
    "    movie_info_list.append(get_info_box(full_path))"
   ]
  },
  {
   "cell_type": "code",
   "execution_count": null,
   "id": "1d2f036f",
   "metadata": {},
   "outputs": [],
   "source": []
  },
  {
   "cell_type": "code",
   "execution_count": null,
   "id": "f52d8884",
   "metadata": {},
   "outputs": [],
   "source": []
  },
  {
   "cell_type": "code",
   "execution_count": null,
   "id": "b67c1dfd",
   "metadata": {},
   "outputs": [],
   "source": []
  },
  {
   "cell_type": "code",
   "execution_count": null,
   "id": "1e7dd861",
   "metadata": {},
   "outputs": [],
   "source": []
  },
  {
   "cell_type": "code",
   "execution_count": null,
   "id": "36141cde",
   "metadata": {},
   "outputs": [],
   "source": []
  },
  {
   "cell_type": "code",
   "execution_count": null,
   "id": "ba55b287",
   "metadata": {},
   "outputs": [],
   "source": []
  },
  {
   "cell_type": "code",
   "execution_count": null,
   "id": "73d458fc",
   "metadata": {},
   "outputs": [],
   "source": []
  },
  {
   "cell_type": "code",
   "execution_count": null,
   "id": "dc71ef2f",
   "metadata": {},
   "outputs": [],
   "source": []
  }
 ],
 "metadata": {
  "kernelspec": {
   "display_name": "Python 3 (ipykernel)",
   "language": "python",
   "name": "python3"
  },
  "language_info": {
   "codemirror_mode": {
    "name": "ipython",
    "version": 3
   },
   "file_extension": ".py",
   "mimetype": "text/x-python",
   "name": "python",
   "nbconvert_exporter": "python",
   "pygments_lexer": "ipython3",
   "version": "3.9.12"
  }
 },
 "nbformat": 4,
 "nbformat_minor": 5
}
